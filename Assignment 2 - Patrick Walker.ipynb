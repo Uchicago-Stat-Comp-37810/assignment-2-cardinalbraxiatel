{
 "cells": [
  {
   "cell_type": "markdown",
   "metadata": {},
   "source": [
    "# Exercise 1"
   ]
  },
  {
   "cell_type": "code",
   "execution_count": 1,
   "metadata": {},
   "outputs": [
    {
     "name": "stdout",
     "output_type": "stream",
     "text": [
      "Hello World!\n",
      "Hello Again\n",
      "I like typing this.\n",
      "This is fun.\n",
      "Yay! Printing\n",
      "I'd much rather you 'not'.\n",
      "I \"said\" do not touch this.\n"
     ]
    }
   ],
   "source": [
    "\n",
    "print(\"Hello World!\")\n",
    "print(\"Hello Again\")\n",
    "print(\"I like typing this.\")\n",
    "print(\"This is fun.\")\n",
    "print('Yay! Printing')\n",
    "print(\"I'd much rather you 'not'.\")\n",
    "print('I \"said\" do not touch this.') \n",
    "\n",
    "\n"
   ]
  },
  {
   "cell_type": "markdown",
   "metadata": {},
   "source": [
    "The above code runs as intended, while the below code approaches the drilling exercises.\n",
    "The octothorpe operator, #, renders what ever follows it into comments."
   ]
  },
  {
   "cell_type": "code",
   "execution_count": 2,
   "metadata": {},
   "outputs": [
    {
     "name": "stdout",
     "output_type": "stream",
     "text": [
      "I think therefore I am\n"
     ]
    }
   ],
   "source": [
    "#print(\"Hello World!\")\n",
    "#print(\"Hello Again\")\n",
    "#print(\"I like typing this.\")\n",
    "#print(\"This is fun.\")\n",
    "#print('Yay! Printing')\n",
    "#print(\"I'd much rather you 'not'.\")\n",
    "#print('I \"said\" do not touch this.') \n",
    "\n",
    "print(\"I think therefore I am\")\n",
    "\n",
    "# I prevented all but one lines from \n",
    "# executing by putting an octothorpe before it."
   ]
  },
  {
   "cell_type": "markdown",
   "metadata": {},
   "source": [
    "# Exercise 2"
   ]
  },
  {
   "cell_type": "code",
   "execution_count": 3,
   "metadata": {},
   "outputs": [
    {
     "name": "stdout",
     "output_type": "stream",
     "text": [
      "I could have code like this.\n",
      "This will run.\n"
     ]
    }
   ],
   "source": [
    "#Comments so you can read your program later\n",
    "#Anything after the octothorpe is ignored\n",
    "#by python.\n",
    "\n",
    "print(\"I could have code like this.\")\n",
    "\n",
    "#You can also use a comment to \"disable\" or\n",
    "#comment out code:\n",
    "#print(\"This won't run.\")\n",
    "print(\"This will run.\")\n"
   ]
  },
  {
   "cell_type": "markdown",
   "metadata": {},
   "source": [
    "The # functions as I suggested above."
   ]
  },
  {
   "cell_type": "markdown",
   "metadata": {},
   "source": [
    "# Exercise 3"
   ]
  },
  {
   "cell_type": "code",
   "execution_count": 4,
   "metadata": {},
   "outputs": [
    {
     "name": "stdout",
     "output_type": "stream",
     "text": [
      "I will now count my chickens:\n",
      "Hens 30.0\n",
      "Roosters 97\n",
      "Now I will count the eggs:\n",
      "6.75\n",
      "Is it true that 3 + 2 < 5 - 7\n",
      "False\n",
      "What is 3 + 2? 5\n",
      "What is 5 - 7? -2\n",
      "Oh, that's why it's False.\n",
      "How about some more.\n",
      "Is it greater? True\n",
      "Is it greater or equal? True\n",
      "Is it less or equal? False\n"
     ]
    }
   ],
   "source": [
    "# prints given statement\n",
    "print(\"I will now count my chickens:\")\n",
    "\n",
    "#prints string and 25+5\n",
    "print(\"Hens\", 25+30/6)\n",
    "\n",
    "#prints string and 100 - the remainder of 75/4\n",
    "print(\"Roosters\", 100 -25*3%4)\n",
    "\n",
    "#prints string\n",
    "print(\"Now I will count the eggs:\")\n",
    "\n",
    "#4%2 = 0 since no remainder, prints 6.75\n",
    "print(3 + 2 + 1 -5 + 4%2 - 1/4 + 6)\n",
    "\n",
    "#prints string, no Boolean\n",
    "print(\"Is it true that 3 + 2 < 5 - 7\")\n",
    "\n",
    "#brints Boolean FALSE since inequality is False\n",
    "# shows inequality symbol <\n",
    "print(3 + 2 < 5 -7)\n",
    "\n",
    "#prints string and 5\n",
    "print(\"What is 3 + 2?\", 3 + 2)\n",
    "\n",
    "#prints string and -2\n",
    "print(\"What is 5 - 7?\", 5 - 7)\n",
    "\n",
    "#pritns string\n",
    "print(\"Oh, that's why it's False.\")\n",
    "\n",
    "#prints string\n",
    "print(\"How about some more.\")\n",
    "\n",
    "#prints string and Boolean = TRUE for inequality\n",
    "# >\n",
    "print(\"Is it greater?\", 5 > -2)\n",
    "\n",
    "#prints string and Boolean = TRUE,\n",
    "# shows equal to or greater than sign\n",
    "print(\"Is it greater or equal?\", 5 >= -2)\n",
    "\n",
    "#prints string and Boolean = False\n",
    "# shows less than or equal to sign\n",
    "print(\"Is it less or equal?\", 5 <= -2)\n"
   ]
  },
  {
   "cell_type": "markdown",
   "metadata": {},
   "source": [
    "Above comments were added per study drills. Below is my self made calculator."
   ]
  },
  {
   "cell_type": "code",
   "execution_count": 5,
   "metadata": {},
   "outputs": [
    {
     "name": "stdout",
     "output_type": "stream",
     "text": [
      "give me a number   1\n",
      "thats a pretty good number.\n",
      "give me another number   2\n",
      "BEHOLD! THE PRODUCT OF TWO GOOD NUMBERS!\n",
      "2\n"
     ]
    }
   ],
   "source": [
    "\n",
    "numb1 = input(\"give me a number   \")\n",
    "numb1 = int(numb1)\n",
    "print(\"thats a pretty good number.\")\n",
    "\n",
    "numb2 = input(\"give me another number   \")\n",
    "numb2 = int(numb2)\n",
    "numb3 = numb1*numb2\n",
    "\n",
    "print(\"BEHOLD! THE PRODUCT OF TWO GOOD NUMBERS!\")\n",
    "print(numb3)\n"
   ]
  },
  {
   "cell_type": "markdown",
   "metadata": {},
   "source": [
    " Below code has all integers changed to float points."
   ]
  },
  {
   "cell_type": "code",
   "execution_count": 6,
   "metadata": {},
   "outputs": [
    {
     "name": "stdout",
     "output_type": "stream",
     "text": [
      "I will now count my chickens:\n",
      "Hens 30.0\n",
      "Roosters 97.0\n",
      "Now I will count the eggs:\n",
      "6.75\n",
      "Is it true that 3 + 2 < 5 - 7\n",
      "False\n",
      "What is 3 + 2? 5.0\n",
      "What is 5 - 7? -2.0\n",
      "Oh, that's why it's False.\n",
      "How about some more.\n",
      "Is it greater? True\n",
      "Is it greater or equal? True\n",
      "Is it less or equal? False\n"
     ]
    }
   ],
   "source": [
    "# prints given statement\n",
    "print(\"I will now count my chickens:\")\n",
    "\n",
    "#prints string and 25+5\n",
    "print(\"Hens\", 25.0+30.0/6.0)\n",
    "\n",
    "#prints string and 100 - the remainder of 75/4\n",
    "print(\"Roosters\", 100.0 -25.0*3.0%4.0)\n",
    "\n",
    "#prints string\n",
    "print(\"Now I will count the eggs:\")\n",
    "\n",
    "#4%2 = 0 since no remainder, prints 6.75\n",
    "print(3.0 + 2.0 + 1.0 -5.0 + 4.0%2.0 - 1.0/4.0 + 6.0)\n",
    "\n",
    "#prints string, no Boolean\n",
    "print(\"Is it true that 3 + 2 < 5 - 7\")\n",
    "\n",
    "#brints Boolean FALSE since inequality is False\n",
    "# shows inequality symbol <\n",
    "print(3.0 + 2.0 < 5.0 -7.0)\n",
    "\n",
    "#prints string and 5\n",
    "print(\"What is 3 + 2?\", 3.0 + 2.0)\n",
    "\n",
    "#prints string and -2\n",
    "print(\"What is 5 - 7?\", 5.0 - 7.0)\n",
    "\n",
    "#pritns string\n",
    "print(\"Oh, that's why it's False.\")\n",
    "\n",
    "#prints string\n",
    "print(\"How about some more.\")\n",
    "\n",
    "#prints string and Boolean = TRUE for inequality\n",
    "# >\n",
    "print(\"Is it greater?\", 5.0 > -2.0)\n",
    "\n",
    "#prints string and Boolean = TRUE,\n",
    "# shows equal to or greater than sign\n",
    "print(\"Is it greater or equal?\", 5.0 >= -2.0)\n",
    "\n",
    "#prints string and Boolean = False\n",
    "# shows less than or equal to sign\n",
    "print(\"Is it less or equal?\", 5.0 <= -2.0)\n"
   ]
  },
  {
   "cell_type": "markdown",
   "metadata": {},
   "source": [
    "# Exercise 4"
   ]
  },
  {
   "cell_type": "code",
   "execution_count": 7,
   "metadata": {},
   "outputs": [
    {
     "name": "stdout",
     "output_type": "stream",
     "text": [
      "There are 100 cars available.\n",
      "There are only 30 drivers available.\n",
      "There will be 70 empty cars today.\n",
      "We can transport 120.0 people today.\n",
      "We have 90 to carpool today.\n",
      "We need to put about 3.0 in each car\n"
     ]
    }
   ],
   "source": [
    "#defines integer class variable cars, which makes sense since\n",
    "#one rarely encounters a fraction of a car that still functions\n",
    "cars  = 100\n",
    "\n",
    "#space in a car represents the number of spaces available in a car, presumably\n",
    "#not including the driver. This makes sense as a floating point since\n",
    "#it could probably be evaluated on average because of two-seaters, sedans,\n",
    "#mini-vans etc\n",
    "space_in_a_car = 4.0\n",
    "#space_in_a_car = 4\n",
    "\n",
    "#drivers is defined as an integer since there must be a discrete number of\n",
    "#drivers\n",
    "drivers = 30\n",
    "\n",
    "#passengers is defined as an integer since there must be a discrete number of\n",
    "#passengers\n",
    "passengers = 90\n",
    "\n",
    "#cars_not_driven is an integer since it is the difference of two integers\n",
    "#cars and drivers which makes sense since only a discrete number of cars_driven\n",
    "#may not be driven\n",
    "cars_not_driven = cars - drivers\n",
    "\n",
    "#cars_driven is an integer since it is defined to be equal to an integer\n",
    "#which makes sense since only a discrete number of cars may be driven\n",
    "cars_driven = drivers\n",
    "\n",
    "#carpool capacity is a floating point since it is the product of an integer\n",
    "# and a floating point, which makes sense since space_in_a_car is defined\n",
    "# on the average\n",
    "carpool_capacity = cars_driven*space_in_a_car\n",
    "\n",
    "#average_passengers_per_car = is a floating point since passengers is a known discrete\n",
    "#integer being divided by another known discrete integer using conventional divison\n",
    "#which will not necessarily result in another discrete integer\n",
    "average_passengers_per_car = passengers/cars_driven\n",
    "\n",
    "print(\"There are\", cars, \"cars available.\")\n",
    "\n",
    "print(\"There are only\", drivers, \"drivers available.\")\n",
    "\n",
    "print(\"There will be\", cars_not_driven, \"empty cars today.\")\n",
    "\n",
    "print(\"We can transport\", carpool_capacity, \"people today.\")\n",
    "\n",
    "print(\"We have\",passengers,\"to carpool today.\")\n",
    "\n",
    "print(\"We need to put about\", average_passengers_per_car,\"in each car\")\n",
    "\n",
    "\n"
   ]
  },
  {
   "cell_type": "markdown",
   "metadata": {},
   "source": [
    "Study Drill 1\n",
    "The author used car_pool_capacity as a variable, but had\n",
    "named the variable carpool_capacity in line 7, i.e. there was\n",
    "no underscore between \"car\" and \"pool\". Thus the computer\n",
    "had no knowledge of car_pool_capacity and thus could not\n",
    "process the equation in line 8.\n",
    "\n",
    "Study drill 2\n",
    "The floating point seems unnecessary, the output doesn't change,\n",
    "but it may become necessary for other calculations that need to be\n",
    "integers rather than floating points/doubles\n",
    "\n",
    "Study drill 3 (see comments)\n",
    "\n",
    "Study drill 4\n",
    "Equals sign, singular, just assigns a value to a variable for integers, floating\n",
    "doubles, strings etc.\n",
    "\n",
    "Study drill 5 (creates a space without actually requiring a new string)\n",
    "\n",
    "study drill 6 I ran some calculations in Powershell, but also designed a new calculator (see code below)."
   ]
  },
  {
   "cell_type": "code",
   "execution_count": 8,
   "metadata": {},
   "outputs": [
    {
     "name": "stdout",
     "output_type": "stream",
     "text": [
      "Hello, my name is calculator\n",
      "Please enter a number   4\n",
      "Cool, Cool, how about another number?\n",
      "Please enter another number    3\n",
      "Please select add, subtract, multiply, divide, for second number to act on first  add\n",
      "7.0\n"
     ]
    }
   ],
   "source": [
    "print(\"Hello, my name is calculator\")\n",
    "num1 = input(\"Please enter a number   \")\n",
    "num1 = float(num1)\n",
    "\n",
    "print(\"Cool, Cool, how about another number?\")\n",
    "\n",
    "num2 = input(\"Please enter another number    \")\n",
    "num2 = float(num2)\n",
    "\n",
    "op = input(\"Please select add, subtract, multiply, divide, for second number to act on first  \")\n",
    "op = str(op)\n",
    "\n",
    "if( op == \"add\"):\n",
    "    print(num1 + num2)\n",
    "else:\n",
    "    if(op == \"subtract\"):\n",
    "        print(num1 - num2)\n",
    "    else:\n",
    "        if(op == \"multiply\"):\n",
    "            print(num1*num2)\n",
    "        else:\n",
    "            if(op == \"divide\"):\n",
    "                print(num1/num2)\n",
    "            else:\n",
    "                print(\"I'm sorry, I don't understand your request\")\n"
   ]
  }
 ],
 "metadata": {
  "kernelspec": {
   "display_name": "Python 3",
   "language": "python",
   "name": "python3"
  },
  "language_info": {
   "codemirror_mode": {
    "name": "ipython",
    "version": 3
   },
   "file_extension": ".py",
   "mimetype": "text/x-python",
   "name": "python",
   "nbconvert_exporter": "python",
   "pygments_lexer": "ipython3",
   "version": "3.7.0"
  }
 },
 "nbformat": 4,
 "nbformat_minor": 2
}
